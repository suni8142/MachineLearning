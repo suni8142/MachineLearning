{
 "cells": [
  {
   "cell_type": "code",
   "execution_count": 14,
   "id": "e0bb5291",
   "metadata": {},
   "outputs": [
    {
     "name": "stdout",
     "output_type": "stream",
     "text": [
      "m values 2.4142857142857133\n",
      "b values -0.8285714285714231\n",
      "y values [1.5857142857142903, 4.0000000000000036, 6.414285714285717, 8.82857142857143, 11.242857142857142, 13.657142857142857, 16.07142857142857]\n",
      "Y future values for X in range(8,15) [18.485714285714284, 20.9, 23.31428571428571, 25.728571428571424, 28.14285714285714, 30.55714285714285, 32.97142857142856]\n",
      "   x     y     xy  x2    outputs\n",
      "0  1   1.5    1.5   1   1.585714\n",
      "1  2   3.8    7.6   4   4.000000\n",
      "2  3   6.7   20.1   9   6.414286\n",
      "3  4   9.0   36.0  16   8.828571\n",
      "4  5  11.2   56.0  25  11.242857\n",
      "5  6  13.6   81.6  36  13.657143\n",
      "6  7  16.0  112.0  49  16.071429\n"
     ]
    }
   ],
   "source": [
    "import numpy as np\n",
    "import pandas as pd\n",
    "import matplotlib \n",
    "\n",
    "class Linear_Regression():\n",
    "    def __init__(self,df,n,sum_x,sum_y,sum_xy,sum_x2,sum_x_h2):\n",
    "        self.df=df\n",
    "        self.n=n\n",
    "        self.sum_x=sum_x\n",
    "        self.sum_y=sum_y\n",
    "        self.sum_xy=sum_xy\n",
    "        self.sum_x2=sum_x2\n",
    "        self.sum_x_h2=sum_x_h2\n",
    "    def m_values(self):\n",
    "        numerator_m=(n*sum_xy)-(sum_x*sum_y)\n",
    "        denominator_m=(n*sum_x2)-(sum_x_h2)\n",
    "        m=numerator_m/denominator_m\n",
    "        return m\n",
    "    def b_values(self):\n",
    "        numerator_b=sum_y-(LR.m_values()*sum_x)\n",
    "        denominator_b=n\n",
    "        b=numerator_b/denominator_b\n",
    "        return b\n",
    "    def y_outputs(self):\n",
    "        outputs=[LR.m_values()*x+LR.b_values() for x in df['x']]\n",
    "        df['outputs']=outputs\n",
    "        return outputs\n",
    "    def future_y_val(self):\n",
    "        y_future_val=[(LR.m_values()*x)+LR.b_values() for x in [i for i in range(8,15)]]\n",
    "        return y_future_val\n",
    "x=[i for i in range(1,8)]\n",
    "y=[1.5,3.8,6.7,9.0,11.2,13.6,16]\n",
    "data={\n",
    "    'x':x,\n",
    "    'y':y\n",
    "}\n",
    "df=pd.DataFrame(data)\n",
    "n=len(df)\n",
    "sum_x=df['x'].sum()\n",
    "sum_y=df['y'].sum()\n",
    "df['xy']=df['x']*df['y']\n",
    "df['x2']=df['x']**2\n",
    "sum_xy=df['xy'].sum()\n",
    "sum_x2=df['x2'].sum()\n",
    "sum_x_h2=sum_x**2\n",
    "LR=Linear_Regression(df,n,sum_x,sum_y,sum_xy,sum_x2,sum_x_h2)\n",
    "print('m values',LR.m_values())\n",
    "print('b values',LR.b_values())\n",
    "print('y values',LR.y_outputs())\n",
    "print('Y future values for X in range(8,15)',LR.future_y_val())\n",
    "print(df)"
   ]
  },
  {
   "cell_type": "code",
   "execution_count": null,
   "id": "5b5fc2bc",
   "metadata": {},
   "outputs": [],
   "source": []
  }
 ],
 "metadata": {
  "kernelspec": {
   "display_name": "Python 3 (ipykernel)",
   "language": "python",
   "name": "python3"
  },
  "language_info": {
   "codemirror_mode": {
    "name": "ipython",
    "version": 3
   },
   "file_extension": ".py",
   "mimetype": "text/x-python",
   "name": "python",
   "nbconvert_exporter": "python",
   "pygments_lexer": "ipython3",
   "version": "3.9.7"
  }
 },
 "nbformat": 4,
 "nbformat_minor": 5
}
