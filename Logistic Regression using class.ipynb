{
 "cells": [
  {
   "cell_type": "code",
   "execution_count": 1,
   "id": "27d7d627",
   "metadata": {},
   "outputs": [],
   "source": [
    "import numpy as np\n",
    "import pandas as pd\n",
    "import matplotlib.pyplot as plt"
   ]
  },
  {
   "cell_type": "code",
   "execution_count": 17,
   "id": "5cb7aea3",
   "metadata": {},
   "outputs": [
    {
     "name": "stdout",
     "output_type": "stream",
     "text": [
      "m values 1.9642990514601528\n",
      "b values -0.3038315034729998\n",
      "y values [-0.10740159832698451, 0.08902830681903079, -0.06811561729778148, 0.32474419299424906, 0.6783180222570766, 1.071177832549107, 1.0122488610053026]\n",
      "Y future values for X in range(8,15) [0, 1, 0, 1, 1, 1, 1]\n",
      "      x  y    xy      x2     ouput  threshold_values  pre_outputs\n",
      "0  0.10  0  0.00  0.0100 -0.107402          0.473175            0\n",
      "1  0.20  0  0.00  0.0400  0.089028          0.522242            1\n",
      "2  0.12  0  0.00  0.0144 -0.068116          0.482978            0\n",
      "3  0.32  0  0.00  0.1024  0.324744          0.580480            1\n",
      "4  0.50  1  0.50  0.2500  0.678318          0.663363            1\n",
      "5  0.70  1  0.70  0.4900  1.071178          0.744821            1\n",
      "6  0.67  1  0.67  0.4489  1.012249          0.733460            1\n",
      "\n",
      "\n",
      "accuracy of the algorithm : 0.7142857142857143\n"
     ]
    }
   ],
   "source": [
    "class Logistic_Regression():\n",
    "    def __init__(self,final_data,n,sum_x,sum_y,sum_xy,sum_x2,sum_x2_h2):\n",
    "        self.final_data=final_data\n",
    "        self.n=n\n",
    "        self.sum_x=sum_x\n",
    "        self.sum_y=sum_y\n",
    "        self.sum_xy=sum_xy\n",
    "        self.sum_x2=sum_x2\n",
    "        self.sum_x_h2=sum_x_h2\n",
    "    def m_values(self):\n",
    "        numerator_m=(n*sum_xy)-(sum_x*sum_y)\n",
    "        denominator_m=(n*sum_x2)-(sum_x_h2)\n",
    "        m=numerator_m/denominator_m\n",
    "        return m\n",
    "    def b_values(self):\n",
    "        numerator_b=sum_y-(obj.m_values()*sum_x)\n",
    "        denominator_b=n\n",
    "        b=numerator_b/denominator_b\n",
    "        return b\n",
    "    def y_outputs(self):\n",
    "        outputs=[obj.m_values()*x+obj.b_values() for x in final_data['x']]\n",
    "        final_data['ouput']=outputs\n",
    "        return outputs\n",
    "    def final_values(self):\n",
    "        b = [1/(1+np.exp(-ys)) for ys in obj.y_outputs()] \n",
    "        final_data['threshold_values']=b\n",
    "        final = [1 if bs>=0.5 else 0 for bs in b ]\n",
    "        final_data['pre_outputs']=final\n",
    "        return final\n",
    "    def accuracy(self):\n",
    "        correct = 0\n",
    "        for pred, org in zip(final_data['pre_outputs'], final_data['y']):\n",
    "            if pred == org:\n",
    "                correct += 1\n",
    "            else:\n",
    "                pass\n",
    "        acc=correct / len(final_data)\n",
    "        return acc\n",
    "x = [0.1, 0.2, 0.12, 0.32, 0.5, 0.7, 0.67]\n",
    "y = [0, 0, 0, 0, 1, 1, 1]\n",
    "data={\n",
    "    'x':x,\n",
    "    'y':y\n",
    "}\n",
    "final_data=pd.DataFrame(data)\n",
    "n=len(final_data)\n",
    "sum_x=final_data['x'].sum()\n",
    "sum_y=final_data['y'].sum()\n",
    "final_data['xy']=final_data['x']*final_data['y']\n",
    "final_data['x2']=final_data['x']**2\n",
    "sum_xy=final_data['xy'].sum()\n",
    "sum_x2=final_data['x2'].sum()\n",
    "sum_x_h2=sum_x**2\n",
    "obj=Logistic_Regression(final_data,n,sum_x,sum_y,sum_xy,sum_x2,sum_x_h2)\n",
    "print('m values',obj.m_values())\n",
    "print('b values',obj.b_values())\n",
    "print('y values',obj.y_outputs())\n",
    "print('Y future values for X in range(8,15)',obj.final_values())\n",
    "print(final_data)\n",
    "print('\\n')\n",
    "print(\"accuracy of the algorithm :\",obj.accuracy())\n",
    "    "
   ]
  },
  {
   "cell_type": "code",
   "execution_count": null,
   "id": "89e3e0d5",
   "metadata": {},
   "outputs": [],
   "source": []
  }
 ],
 "metadata": {
  "kernelspec": {
   "display_name": "Python 3 (ipykernel)",
   "language": "python",
   "name": "python3"
  },
  "language_info": {
   "codemirror_mode": {
    "name": "ipython",
    "version": 3
   },
   "file_extension": ".py",
   "mimetype": "text/x-python",
   "name": "python",
   "nbconvert_exporter": "python",
   "pygments_lexer": "ipython3",
   "version": "3.9.7"
  }
 },
 "nbformat": 4,
 "nbformat_minor": 5
}
